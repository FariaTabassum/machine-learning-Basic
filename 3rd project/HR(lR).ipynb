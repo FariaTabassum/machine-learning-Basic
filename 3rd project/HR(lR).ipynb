{
 "cells": [
  {
   "cell_type": "code",
   "execution_count": 1,
   "id": "00e03293",
   "metadata": {},
   "outputs": [],
   "source": [
    "import pandas as pd\n",
    "import numpy as np\n",
    "from matplotlib import pyplot as plt\n",
    "%matplotlib inline\n",
    "import  matplotlib"
   ]
  },
  {
   "cell_type": "code",
   "execution_count": 2,
   "id": "bb46ba20",
   "metadata": {},
   "outputs": [
    {
     "data": {
      "text/html": [
       "<div>\n",
       "<style scoped>\n",
       "    .dataframe tbody tr th:only-of-type {\n",
       "        vertical-align: middle;\n",
       "    }\n",
       "\n",
       "    .dataframe tbody tr th {\n",
       "        vertical-align: top;\n",
       "    }\n",
       "\n",
       "    .dataframe thead th {\n",
       "        text-align: right;\n",
       "    }\n",
       "</style>\n",
       "<table border=\"1\" class=\"dataframe\">\n",
       "  <thead>\n",
       "    <tr style=\"text-align: right;\">\n",
       "      <th></th>\n",
       "      <th>Acc_X</th>\n",
       "      <th>Acc_Y</th>\n",
       "      <th>Acc_Z</th>\n",
       "      <th>Gyr_X</th>\n",
       "      <th>Gyr_Y</th>\n",
       "      <th>Gyr_Z</th>\n",
       "      <th>Temperature</th>\n",
       "      <th>Relative_Humid</th>\n",
       "      <th>Token</th>\n",
       "    </tr>\n",
       "  </thead>\n",
       "  <tbody>\n",
       "    <tr>\n",
       "      <th>0</th>\n",
       "      <td>6.037000</td>\n",
       "      <td>-10.210100</td>\n",
       "      <td>3.471600</td>\n",
       "      <td>-5.707900</td>\n",
       "      <td>1.404400</td>\n",
       "      <td>-0.624300</td>\n",
       "      <td>92.00</td>\n",
       "      <td>76.20</td>\n",
       "      <td>1</td>\n",
       "    </tr>\n",
       "    <tr>\n",
       "      <th>1</th>\n",
       "      <td>-0.851100</td>\n",
       "      <td>1.490400</td>\n",
       "      <td>4.394000</td>\n",
       "      <td>0.069900</td>\n",
       "      <td>6.699400</td>\n",
       "      <td>0.967300</td>\n",
       "      <td>92.00</td>\n",
       "      <td>76.20</td>\n",
       "      <td>1</td>\n",
       "    </tr>\n",
       "    <tr>\n",
       "      <th>2</th>\n",
       "      <td>3.428500</td>\n",
       "      <td>-3.263900</td>\n",
       "      <td>-1.188100</td>\n",
       "      <td>-0.401000</td>\n",
       "      <td>3.281300</td>\n",
       "      <td>1.039400</td>\n",
       "      <td>92.00</td>\n",
       "      <td>76.20</td>\n",
       "      <td>1</td>\n",
       "    </tr>\n",
       "    <tr>\n",
       "      <th>3</th>\n",
       "      <td>1.121100</td>\n",
       "      <td>-2.018300</td>\n",
       "      <td>2.185900</td>\n",
       "      <td>-0.728800</td>\n",
       "      <td>-2.010100</td>\n",
       "      <td>-0.113900</td>\n",
       "      <td>92.00</td>\n",
       "      <td>76.20</td>\n",
       "      <td>1</td>\n",
       "    </tr>\n",
       "    <tr>\n",
       "      <th>4</th>\n",
       "      <td>2.055400</td>\n",
       "      <td>-2.256500</td>\n",
       "      <td>3.077100</td>\n",
       "      <td>1.493000</td>\n",
       "      <td>-3.850300</td>\n",
       "      <td>0.101700</td>\n",
       "      <td>92.00</td>\n",
       "      <td>76.20</td>\n",
       "      <td>1</td>\n",
       "    </tr>\n",
       "    <tr>\n",
       "      <th>...</th>\n",
       "      <td>...</td>\n",
       "      <td>...</td>\n",
       "      <td>...</td>\n",
       "      <td>...</td>\n",
       "      <td>...</td>\n",
       "      <td>...</td>\n",
       "      <td>...</td>\n",
       "      <td>...</td>\n",
       "      <td>...</td>\n",
       "    </tr>\n",
       "    <tr>\n",
       "      <th>100995</th>\n",
       "      <td>-0.056264</td>\n",
       "      <td>0.529119</td>\n",
       "      <td>-9.173384</td>\n",
       "      <td>0.091630</td>\n",
       "      <td>0.025962</td>\n",
       "      <td>0.029932</td>\n",
       "      <td>82.53</td>\n",
       "      <td>91.41</td>\n",
       "      <td>14</td>\n",
       "    </tr>\n",
       "    <tr>\n",
       "      <th>100996</th>\n",
       "      <td>-0.066439</td>\n",
       "      <td>0.519542</td>\n",
       "      <td>-9.156026</td>\n",
       "      <td>0.090713</td>\n",
       "      <td>0.026878</td>\n",
       "      <td>0.028711</td>\n",
       "      <td>82.53</td>\n",
       "      <td>91.41</td>\n",
       "      <td>14</td>\n",
       "    </tr>\n",
       "    <tr>\n",
       "      <th>100997</th>\n",
       "      <td>-0.079607</td>\n",
       "      <td>0.527323</td>\n",
       "      <td>-9.152434</td>\n",
       "      <td>0.088270</td>\n",
       "      <td>0.028405</td>\n",
       "      <td>0.032681</td>\n",
       "      <td>82.53</td>\n",
       "      <td>91.41</td>\n",
       "      <td>14</td>\n",
       "    </tr>\n",
       "    <tr>\n",
       "      <th>100998</th>\n",
       "      <td>-0.071227</td>\n",
       "      <td>0.509965</td>\n",
       "      <td>-9.156026</td>\n",
       "      <td>0.088270</td>\n",
       "      <td>0.027489</td>\n",
       "      <td>0.031765</td>\n",
       "      <td>82.53</td>\n",
       "      <td>91.41</td>\n",
       "      <td>14</td>\n",
       "    </tr>\n",
       "    <tr>\n",
       "      <th>100999</th>\n",
       "      <td>-0.063446</td>\n",
       "      <td>0.516549</td>\n",
       "      <td>-9.146448</td>\n",
       "      <td>0.091630</td>\n",
       "      <td>0.027184</td>\n",
       "      <td>0.034208</td>\n",
       "      <td>82.53</td>\n",
       "      <td>91.41</td>\n",
       "      <td>14</td>\n",
       "    </tr>\n",
       "  </tbody>\n",
       "</table>\n",
       "<p>101000 rows × 9 columns</p>\n",
       "</div>"
      ],
      "text/plain": [
       "           Acc_X      Acc_Y     Acc_Z     Gyr_X     Gyr_Y     Gyr_Z  \\\n",
       "0       6.037000 -10.210100  3.471600 -5.707900  1.404400 -0.624300   \n",
       "1      -0.851100   1.490400  4.394000  0.069900  6.699400  0.967300   \n",
       "2       3.428500  -3.263900 -1.188100 -0.401000  3.281300  1.039400   \n",
       "3       1.121100  -2.018300  2.185900 -0.728800 -2.010100 -0.113900   \n",
       "4       2.055400  -2.256500  3.077100  1.493000 -3.850300  0.101700   \n",
       "...          ...        ...       ...       ...       ...       ...   \n",
       "100995 -0.056264   0.529119 -9.173384  0.091630  0.025962  0.029932   \n",
       "100996 -0.066439   0.519542 -9.156026  0.090713  0.026878  0.028711   \n",
       "100997 -0.079607   0.527323 -9.152434  0.088270  0.028405  0.032681   \n",
       "100998 -0.071227   0.509965 -9.156026  0.088270  0.027489  0.031765   \n",
       "100999 -0.063446   0.516549 -9.146448  0.091630  0.027184  0.034208   \n",
       "\n",
       "        Temperature  Relative_Humid  Token  \n",
       "0             92.00           76.20      1  \n",
       "1             92.00           76.20      1  \n",
       "2             92.00           76.20      1  \n",
       "3             92.00           76.20      1  \n",
       "4             92.00           76.20      1  \n",
       "...             ...             ...    ...  \n",
       "100995        82.53           91.41     14  \n",
       "100996        82.53           91.41     14  \n",
       "100997        82.53           91.41     14  \n",
       "100998        82.53           91.41     14  \n",
       "100999        82.53           91.41     14  \n",
       "\n",
       "[101000 rows x 9 columns]"
      ]
     },
     "execution_count": 2,
     "metadata": {},
     "output_type": "execute_result"
    }
   ],
   "source": [
    "#Read the csv file\n",
    "df = pd.read_csv(\"TrainData.csv\")\n",
    "df"
   ]
  },
  {
   "cell_type": "code",
   "execution_count": 3,
   "id": "94287cc4",
   "metadata": {},
   "outputs": [
    {
     "data": {
      "text/plain": [
       "(101000, 9)"
      ]
     },
     "execution_count": 3,
     "metadata": {},
     "output_type": "execute_result"
    }
   ],
   "source": [
    "#for showing number of rows and columns\n",
    "df.shape"
   ]
  },
  {
   "cell_type": "code",
   "execution_count": 4,
   "id": "784f690e",
   "metadata": {},
   "outputs": [
    {
     "data": {
      "text/plain": [
       "Acc_X             0\n",
       "Acc_Y             0\n",
       "Acc_Z             0\n",
       "Gyr_X             0\n",
       "Gyr_Y             0\n",
       "Gyr_Z             0\n",
       "Temperature       0\n",
       "Relative_Humid    0\n",
       "Token             0\n",
       "dtype: int64"
      ]
     },
     "execution_count": 4,
     "metadata": {},
     "output_type": "execute_result"
    }
   ],
   "source": [
    "#finding N/A rows\n",
    "df.isnull().sum()"
   ]
  },
  {
   "cell_type": "code",
   "execution_count": 5,
   "id": "48e90cf6",
   "metadata": {},
   "outputs": [
    {
     "data": {
      "text/plain": [
       "Token\n",
       "1      7000\n",
       "2      7000\n",
       "3      7000\n",
       "4      7000\n",
       "5      7000\n",
       "6      7000\n",
       "7      7000\n",
       "8      7000\n",
       "9      7000\n",
       "10     7000\n",
       "11     7000\n",
       "12     7000\n",
       "13     7000\n",
       "14    10000\n",
       "Name: Token, dtype: int64"
      ]
     },
     "execution_count": 5,
     "metadata": {},
     "output_type": "execute_result"
    }
   ],
   "source": [
    "# type featurs\n",
    "df.groupby('Token')['Token']. agg('count')"
   ]
  },
  {
   "cell_type": "code",
   "execution_count": 11,
   "id": "1571ceaf",
   "metadata": {},
   "outputs": [
    {
     "data": {
      "text/plain": [
       "<matplotlib.collections.PathCollection at 0x1c46136b520>"
      ]
     },
     "execution_count": 11,
     "metadata": {},
     "output_type": "execute_result"
    },
    {
     "data": {
      "image/png": "[encoded data removed]",
      "text/plain": [
       "<Figure size 432x288 with 1 Axes>"
      ]
     },
     "metadata": {
      "needs_background": "light"
     },
     "output_type": "display_data"
    }
   ],
   "source": [
    "plt.scatter (df['Acc_X'],df['Acc_Y'])"
   ]
  },
  {
   "cell_type": "code",
   "execution_count": 12,
   "id": "078cf62c",
   "metadata": {},
   "outputs": [
    {
     "data": {
      "text/plain": [
       "<matplotlib.collections.PathCollection at 0x1c461c57d00>"
      ]
     },
     "execution_count": 12,
     "metadata": {},
     "output_type": "execute_result"
    },
    {
     "data": {
      "image/png": "[encoded data removed]",
      "text/plain": [
       "<Figure size 432x288 with 1 Axes>"
      ]
     },
     "metadata": {
      "needs_background": "light"
     },
     "output_type": "display_data"
    }
   ],
   "source": [
    "plt.scatter (df['Gyr_X'],df['Gyr_Y'])"
   ]
  },
  {
   "cell_type": "code",
   "execution_count": 18,
   "id": "52abe99a",
   "metadata": {},
   "outputs": [],
   "source": [
    "X= df[['Acc_X','Acc_Y','Acc_Z' ,'Gyr_X','Gyr_Y','Gyr_Z','Temperature','Relative_Humid']]\n",
    "Y=df[['Token']]"
   ]
  },
  {
   "cell_type": "code",
   "execution_count": 20,
   "id": "07e2da20",
   "metadata": {},
   "outputs": [],
   "source": [
    "from sklearn.model_selection import train_test_split\n",
    "X_train, X_test, y_train, y_test = train_test_split(X,Y,test_size=0.2,random_state=10)"
   ]
  },
  {
   "cell_type": "code",
   "execution_count": 21,
   "id": "78b30b29",
   "metadata": {},
   "outputs": [
    {
     "data": {
      "text/plain": [
       "0.3300088140970976"
      ]
     },
     "execution_count": 21,
     "metadata": {},
     "output_type": "execute_result"
    }
   ],
   "source": [
    "from sklearn.linear_model import LinearRegression\n",
    "lr_clf = LinearRegression()\n",
    "lr_clf.fit(X_train,y_train)\n",
    "lr_clf.score(X_test,y_test)"
   ]
  },
  {
   "cell_type": "code",
   "execution_count": null,
   "id": "b9b526dc",
   "metadata": {},
   "outputs": [],
   "source": []
  }
 ],
 "metadata": {
  "kernelspec": {
   "display_name": "Python 3",
   "language": "python",
   "name": "python3"
  },
  "language_info": {
   "codemirror_mode": {
    "name": "ipython",
    "version": 3
   },
   "file_extension": ".py",
   "mimetype": "text/x-python",
   "name": "python",
   "nbconvert_exporter": "python",
   "pygments_lexer": "ipython3",
   "version": "3.8.8"
  }
 },
 "nbformat": 4,
 "nbformat_minor": 5
}
